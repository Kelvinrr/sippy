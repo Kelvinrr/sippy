{
 "cells": [
  {
   "cell_type": "code",
   "execution_count": 10,
   "metadata": {
    "collapsed": false,
    "deletable": true,
    "editable": true
   },
   "outputs": [
    {
     "name": "stdout",
     "output_type": "stream",
     "text": [
      "The autoreload extension is already loaded. To reload it, use:\n",
      "  %reload_ext autoreload\n"
     ]
    }
   ],
   "source": [
    "import os\n",
    "import sys\n",
    "sys.path.insert(0, '../')\n",
    "\n",
    "from sippy.examples import get_path\n",
    "from sippy.examples import available\n",
    "from sippy.control.control import BundleAdjust\n",
    "\n",
    "%load_ext autoreload\n",
    "%autoreload 2"
   ]
  },
  {
   "cell_type": "code",
   "execution_count": 11,
   "metadata": {
    "collapsed": false,
    "deletable": true,
    "editable": true
   },
   "outputs": [],
   "source": [
    "flist = get_path('compiles.lis')\n",
    "cnet = get_path('compiles.net')"
   ]
  },
  {
   "cell_type": "code",
   "execution_count": 16,
   "metadata": {
    "collapsed": false
   },
   "outputs": [
    {
     "name": "stdout",
     "output_type": "stream",
     "text": [
      "solve_radius True\n",
      "instrument_position_option NoPositionFactors\n",
      "outlier_rejection True\n",
      "global_apriori_radius_sigma -1.797693134862315e+308\n",
      "error_propagation True\n",
      "instrument_pointing_option NoPointingFactors\n"
     ]
    }
   ],
   "source": [
    "bundle_parameters = {'solve_radius': True,\n",
    "                     'error_propagation': True,\n",
    "                     'instrument_pointing_option': 'Angles',\n",
    "                     'instrument_position_option': 'PositionOnly',\n",
    "                     'outlier_rejection': True,\n",
    "                     'global_apriori_radius_sigma': 100.}\n",
    "\n",
    "# Global Apriori Radius Sigma is not setting properly either.\n",
    "bun = BundleAdjust(settings=bundle_parameters)"
   ]
  },
  {
   "cell_type": "code",
   "execution_count": 13,
   "metadata": {
    "collapsed": false
   },
   "outputs": [
    {
     "data": {
      "text/plain": [
       "-1.797693134862315e+308"
      ]
     },
     "execution_count": 13,
     "metadata": {},
     "output_type": "execute_result"
    }
   ],
   "source": [
    "bun.global_apriori_radius_sigma = 1.0\n",
    "bun.global_apriori_radius_sigma"
   ]
  },
  {
   "cell_type": "code",
   "execution_count": 14,
   "metadata": {
    "collapsed": false
   },
   "outputs": [
    {
     "data": {
      "text/plain": [
       "-1.797693134862315e+308"
      ]
     },
     "execution_count": 14,
     "metadata": {},
     "output_type": "execute_result"
    }
   ],
   "source": [
    "bun.global_apriori_lat_sigma"
   ]
  },
  {
   "cell_type": "code",
   "execution_count": null,
   "metadata": {
    "collapsed": false
   },
   "outputs": [],
   "source": [
    "results, df = bun.bundle(cnet, flist)"
   ]
  },
  {
   "cell_type": "code",
   "execution_count": null,
   "metadata": {
    "collapsed": true
   },
   "outputs": [],
   "source": []
  }
 ],
 "metadata": {
  "kernelspec": {
   "display_name": "AutoCNet Local",
   "language": "python",
   "name": "autocnet_local"
  }
 },
 "nbformat": 4,
 "nbformat_minor": 0
}
